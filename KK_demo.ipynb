{
 "cells": [
  {
   "cell_type": "markdown",
   "metadata": {},
   "source": [
    "# Guide to using Kramers-Kronig method"
   ]
  },
  {
   "cell_type": "markdown",
   "metadata": {},
   "source": [
    "Initial importing of libraries and modules:"
   ]
  },
  {
   "cell_type": "code",
   "execution_count": null,
   "metadata": {},
   "outputs": [],
   "source": [
    "# Preliminaries\n",
    "from spectrum import *\n",
    "import matplotlib.pyplot as plt\n",
    "import os\n",
    "from pathlib import Path\n",
    "import pandas as pd\n",
    "import numpy as np\n",
    "current_path = Path.cwd()"
   ]
  },
  {
   "cell_type": "markdown",
   "metadata": {},
   "source": [
    "Loading reference data set into a pandas dataframe using ``data_macro``:"
   ]
  },
  {
   "cell_type": "code",
   "execution_count": null,
   "metadata": {},
   "outputs": [],
   "source": [
    "pathMagneto = os.path.join(current_path, \"Data\", \"Facet_001\")\n",
    "inst_MO = Data_macro(auto = True, data_path = pathMagneto, units = \"cm-1\", data_head = \"none\", ref_head = \"none\", zero_field = True, flag_txt = False)\n",
    "df_macro = inst_MO.auto()\n",
    "\n",
    "# Select data and generate a sparser dataframe for improved processing time\n",
    "df = df_macro.loc[:4000:2,5.0]"
   ]
  },
  {
   "cell_type": "markdown",
   "metadata": {},
   "source": [
    "To carry out the Kramers-Kronig relation calculations, we use the method:\n",
    "\n",
    "``Treatment.kramers_kronig(df, n, model, w_free, ptail, b)``\n",
    "\n",
    "- ``df``: (pandas dataframe) The input dataframe of spectral data to be processed.<br><br>\n",
    "- ``n``: (int) The number of data points to calculate for low energy extrapolation.<br><br>\n",
    "- ``model``: (string) The model to be used to for low energy extrapolation.<br>(\"Hagen-Rubens\", \"Insulator\", \"Power law\", \"Metal\", \"Marginal Fermi liquid\", \"Gorter-Casimir two-fluid model\", or \"Superconducting\")<br><br>\n",
    "- ``w_free``: (float) The frequency of free-electron (plasma) behaviour.<br><br>\n",
    "- ``ptail``: (int) The exponent for high-energy extrapolation in the interband region.<br><br>\n",
    "- ``b``: (float) Additional parameter for models - the DC conductivity for \"Hagen-Rubens\", the zero-frequency reflectance for \"Insulator\", and the exponent for \"Power law\". "
   ]
  },
  {
   "cell_type": "code",
   "execution_count": null,
   "metadata": {},
   "outputs": [],
   "source": [
    "proc_df = Treatment.kramers_kronig(df, n = 20, model = \"Hagen-Rubens\", w_free = 50000, ptail = 1, b = 2)\n",
    "proc_df"
   ]
  },
  {
   "cell_type": "code",
   "execution_count": null,
   "metadata": {},
   "outputs": [],
   "source": [
    "proc_df[[\"er\",\"ei\",\"R\",\"phase\"]].plot()"
   ]
  },
  {
   "cell_type": "markdown",
   "metadata": {},
   "source": [
    "# Low energy extrapolation models\n",
    "\n",
    "The equations below describe how the low-energy reflectivity $R$ is modelled as a function of the frequency $\\omega$.\n",
    "\n",
    "### Hagen-Rubens\n",
    "\n",
    "$R(\\omega) = 1 - \\sqrt{2\\omega / 15\\sigma}$,\n",
    "\n",
    "where the conductivity $\\sigma$ is given by the user.\n",
    "\n",
    "### Insulator\n",
    "\n",
    "$R(\\omega) = R_0 + a \\omega^2$,\n",
    "\n",
    "where the zero-frequency reflectivity $R_0$ is given by the user and the coefficient $a$ is calculated from the first three datapoints.\n",
    "\n",
    "### Power law\n",
    "\n",
    "$R(\\omega) = 1 - a \\omega^{apow}$,\n",
    "\n",
    "where the exponent $apow$ is given by the user and the coefficient $a$ is calculated from the first datapoint.\n",
    "\n",
    "### Metal\n",
    "\n",
    "$R(\\omega) = 1 - a \\sqrt{\\omega}$,\n",
    "\n",
    "where the coefficient $a$ is calculated from the first datapoint.\n",
    "\n",
    "### Marginal Fermi liquid\n",
    "\n",
    "$R(\\omega) = 1 - a \\omega$,\n",
    "\n",
    "where the coefficient $a$ is calculated from the first datapoint.\n",
    "\n",
    "### Gorter-Casimir two-fluid model\n",
    "\n",
    "$R(\\omega) = 1 - a \\omega^2$,\n",
    "\n",
    "where the coefficient $a$ is calculated from the first datapoint.\n",
    "\n",
    "### Superconducting\n",
    "\n",
    "$R(\\omega) = 1 - a \\omega^4$,\n",
    "\n",
    "where the coefficient $a$ is calculated from the first datapoint.\n"
   ]
  },
  {
   "cell_type": "markdown",
   "metadata": {},
   "source": [
    "# Kramers-Kronig widget\n",
    "<br>Assumes input cropped dataframe is named ``df``\n"
   ]
  },
  {
   "cell_type": "code",
   "execution_count": null,
   "metadata": {},
   "outputs": [],
   "source": [
    "# RUN ME\n",
    "from IPython.display import display, clear_output\n",
    "import ipywidgets as widgets\n",
    "\n",
    "class InteractiveUI:\n",
    "    def __init__(self, df):\n",
    "        self.options = [\"Hagen-Rubens\", \"Insulator\", \"Power law\", \"Metal\", \"Marginal Fermi Liquid\", \"Gorter-Casimir two-fluid model\", \"Superconducting\"]\n",
    "        self.dropdown = widgets.Dropdown(options=self.options, description=\"Select model:\")\n",
    "\n",
    "        self.n_input = widgets.Text(description=\"Number of points to calculate:\",style={'description_width':'initial'})\n",
    "        self.wfree_input = widgets.Text(description='Free-electron frequency:',style={'description_width':'initial'})\n",
    "        self.ptail_input = widgets.Text(description='Exponent of interband region:',style={'description_width':'initial'})\n",
    "\n",
    "        self.text_input = widgets.Text()\n",
    "        self.text_input.layout.display = 'none'\n",
    "\n",
    "        self.button = widgets.Button(description=\"Run KK\")\n",
    "        self.button.on_click(self.button_click)\n",
    "\n",
    "        self.dropdown.observe(self.dropdown_event_handler, names='value')\n",
    "        self.update_ui()\n",
    "\n",
    "    def dropdown_event_handler(self, change):\n",
    "        self.update_ui()\n",
    "\n",
    "    def hide_widgets(self, *widgets):\n",
    "        for widget in widgets:\n",
    "            widget.layout.display = 'none'\n",
    "\n",
    "    def display_widgets(self, *widgets):\n",
    "        for widget in widgets:\n",
    "            widget.layout.display = 'block'\n",
    "\n",
    "    def button_click(self, button):\n",
    "        model = self.dropdown.value\n",
    "        try: \n",
    "            n = int(self.n_input.value)\n",
    "            ptail = int(self.ptail_input.value)\n",
    "        except ValueError:\n",
    "            print(\"Error: values entered for n and ptail must be integers\")\n",
    "\n",
    "        try: \n",
    "            wfree = float(self.wfree_input.value)\n",
    "        except ValueError:\n",
    "            print(\"Error: value entered for wfree must be a float\")\n",
    "    \n",
    "        if model in [\"Hagen-Rubens\", \"Insulator\", \"Power law\"]:\n",
    "            try:\n",
    "                float(self.text_input.value)\n",
    "            except ValueError:\n",
    "                print (\"Error: value entered must be a float\")\n",
    "            b = float(self.text_input.value)\n",
    "        else:\n",
    "            b = None\n",
    "\n",
    "        print(\"Processing...\")\n",
    "        proc_df = Treatment.kramers_kronig(df, model=model, n=n, w_free=wfree, ptail=ptail, b=b)\n",
    "        print(proc_df)\n",
    "\n",
    "    def update_ui(self):\n",
    "        clear_output(wait=True)\n",
    "        selected_option = self.dropdown.value\n",
    "        if selected_option in [\"Hagen-Rubens\", \"Insulator\", \"Power law\"]:\n",
    "            self.display_widgets(self.text_input, self.button)\n",
    "            if selected_option == \"Hagen-Rubens\":\n",
    "                self.text_input.description = \"Conductivity:\"\n",
    "            elif selected_option == \"Insulator\":\n",
    "                self.text_input.description = \"Constant:\"\n",
    "            elif selected_option == \"Power law\":\n",
    "                self.text_input.description = \"Exponent:\"\n",
    "            self.text_input.layout.visibility = 'visible'\n",
    "        else:\n",
    "            self.display_widgets(self.text_input, self.button)\n",
    "            self.hide_widgets(self.text_input)\n",
    "\n",
    "        display(self.n_input, self.wfree_input, self.ptail_input, self.dropdown, self.text_input, self.button)\n",
    "\n",
    "# Create an instance of the InteractiveUI class\n",
    "ui = InteractiveUI(df)\n"
   ]
  }
 ],
 "metadata": {
  "kernelspec": {
   "display_name": "Python 3",
   "language": "python",
   "name": "python3"
  },
  "language_info": {
   "codemirror_mode": {
    "name": "ipython",
    "version": 3
   },
   "file_extension": ".py",
   "mimetype": "text/x-python",
   "name": "python",
   "nbconvert_exporter": "python",
   "pygments_lexer": "ipython3",
   "version": "3.10.2"
  },
  "orig_nbformat": 4
 },
 "nbformat": 4,
 "nbformat_minor": 2
}
