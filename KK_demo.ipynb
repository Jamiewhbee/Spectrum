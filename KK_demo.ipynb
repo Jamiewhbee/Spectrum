{
 "cells": [
  {
   "cell_type": "markdown",
   "metadata": {},
   "source": [
    "# Guide to using Kramers-Kronig method"
   ]
  },
  {
   "cell_type": "markdown",
   "metadata": {},
   "source": [
    "Initial importing of libraries and modules:"
   ]
  },
  {
   "cell_type": "code",
   "execution_count": null,
   "metadata": {},
   "outputs": [],
   "source": [
    "# Preliminaries\n",
    "from spectrum import *\n",
    "import matplotlib.pyplot as plt\n",
    "import os\n",
    "from pathlib import Path\n",
    "import pandas as pd\n",
    "import numpy as np\n",
    "current_path = Path.cwd()"
   ]
  },
  {
   "cell_type": "markdown",
   "metadata": {},
   "source": [
    "Loading reference data set into a pandas dataframe using ``data_macro``:"
   ]
  },
  {
   "cell_type": "code",
   "execution_count": null,
   "metadata": {},
   "outputs": [],
   "source": [
    "pathMagneto = os.path.join(current_path, \"Data\", \"Facet_001\")\n",
    "inst_MO = Data_macro(auto = True, data_path = pathMagneto, units = \"cm-1\", data_head = \"none\", ref_head = \"none\", zero_field = True, flag_txt = False)\n",
    "df_macro = inst_MO.Auto()\n",
    "\n",
    "#generating more sparse dataframe for improved processing time\n",
    "df = df_macro.loc[::15,5.0]"
   ]
  },
  {
   "cell_type": "markdown",
   "metadata": {},
   "source": [
    "To carry out the Kramers-Kronig relation calculations, we use the method:<br> ``Treament.Kramers_Kronig()``<br>\n",
    "``Kramers_Kronig(df, model, low_lim, high_lim, below_fe, b)``\n",
    "<br>\n",
    "- ``df``: (pandas dataframe) The input dataframe of spectral data to be processed.<br><br>\n",
    "- ``model``: (string) The model to be used to for low energy extrapolation.<br>(\"Hagen-Rubens\", \"Insulator\", \"Power law\", \"Metal\", \"Marginal Fermi liquid\", \"Gorter-Casimir two-fluid model\", or \"Superconducting\")<br><br>\n",
    "- ``low_lim``: (float) Limit of low energy extrapolation.<br><br>\n",
    "- ``high_lim``: (float) Limit of high energy extrapolation.<br><br>\n",
    "- ``below_fe``: (Boolean) Specifies whether the energy range is below the free-electron (plasma) frequency.<br><br>\n",
    "- ``b``: (float) Additional parameter for models that require an additional degree of freedom - \"Insulator\" and \"Power law\". "
   ]
  },
  {
   "cell_type": "code",
   "execution_count": null,
   "metadata": {},
   "outputs": [],
   "source": [
    "proc_df = Treatment.Kramers_Kronig(df, model = \"Hagen-Rubens\", low_lim = 405, high_lim = 6995, below_fe = False)\n",
    "proc_df"
   ]
  },
  {
   "cell_type": "markdown",
   "metadata": {},
   "source": [
    "# Kramers-Kronig widget\n",
    "<br>The following code assumes that input cropped dataframe is named ``df`` and has the index in units of Hz.\n"
   ]
  },
  {
   "cell_type": "code",
   "execution_count": null,
   "metadata": {},
   "outputs": [],
   "source": [
    "# Preliminaries\n",
    "from IPython.display import display, clear_output\n",
    "import ipywidgets as widgets\n",
    "\n",
    "class InteractiveUI:\n",
    "    def __init__(self, df):\n",
    "        self.df = df\n",
    "        e_max = self.df.index.max()\n",
    "\n",
    "        self.options = [\"Hagen-Rubens\", \"Insulator\", \"Power law\", \"Metal\", \"Marginal Fermi Liquid\", \"Gorter-Casimir two-fluid model\", \"Superconducting\"]\n",
    "        self.dropdown = widgets.Dropdown(options=self.options, description=\"Select model:\")\n",
    "\n",
    "        self.slider1 = widgets.FloatSlider(min=0.0, max=e_max, value=500.0, description=\"Low energy extrapolation limit:\")\n",
    "        self.slider1_val = widgets.Label(value=str(self.slider1.value))\n",
    "        self.slider1_input = widgets.FloatText(value=self.slider1.value)\n",
    "        \n",
    "        self.slider2 = widgets.FloatSlider(min=0.0, max=e_max, value=6000.0, description=\"High energy extrapolation limit:\")\n",
    "        self.slider2_val = widgets.Label(value=str(self.slider2.value))\n",
    "        self.slider2_input = widgets.FloatText(value=self.slider2.value)\n",
    "\n",
    "        self.text_input = widgets.Text()\n",
    "        self.text_input.layout.display = 'none'\n",
    "\n",
    "        self.checkbox = widgets.Checkbox(value=False, description='Measurement is below plasma frequency:')\n",
    "\n",
    "        self.button = widgets.Button(description=\"Run KK\")\n",
    "        self.button.on_click(self.button_click)\n",
    "\n",
    "        self.dropdown.observe(self.dropdown_event_handler, names='value')\n",
    "        self.slider1.observe(self.slider1_event_handler, names='value')\n",
    "        self.slider1_input.observe(self.slider1_input_event_handler, names='value')\n",
    "        self.slider2.observe(self.slider2_event_handler, names='value')\n",
    "        self.slider2_input.observe(self.slider2_input_event_handler, names='value')\n",
    "\n",
    "        self.update_ui()\n",
    "\n",
    "    def dropdown_event_handler(self, change):\n",
    "        self.update_ui()\n",
    "\n",
    "    def slider1_event_handler(self, change):\n",
    "        self.slider1_val.value = str(change.new)\n",
    "        self.slider1_input.value = change.new\n",
    "\n",
    "    def slider1_input_event_handler(self, change):\n",
    "        try:\n",
    "            new_value = float(change.new)\n",
    "            if self.slider1.min <= new_value <= self.slider1.max:\n",
    "                self.slider1.value = new_value\n",
    "                self.slider1_val.value = str(new_value)\n",
    "        except ValueError:\n",
    "            pass\n",
    "\n",
    "    def slider2_event_handler(self, change):\n",
    "        self.slider2_val.value = str(change.new)\n",
    "        self.slider2_input.value = change.new\n",
    "\n",
    "    def slider2_input_event_handler(self, change):\n",
    "        try:\n",
    "            new_value = float(change.new)\n",
    "            if self.slider2.min <= new_value <= self.slider2.max:\n",
    "                self.slider2.value = new_value\n",
    "                self.slider2_val.value = str(new_value)\n",
    "        except ValueError:\n",
    "            pass\n",
    "\n",
    "    def hide_widgets(self, *widgets):\n",
    "        for widget in widgets:\n",
    "            widget.layout.display = 'none'\n",
    "\n",
    "    def display_widgets(self, *widgets):\n",
    "        for widget in widgets:\n",
    "            widget.layout.display = 'block'\n",
    "\n",
    "    def button_click(self, button):\n",
    "        model = self.dropdown.value\n",
    "        e_low = self.slider1.value\n",
    "        e_high = self.slider2.value\n",
    "    \n",
    "        if model in [\"Insulator\", \"Power law\"]:\n",
    "            try:\n",
    "                float(self.text_input.value)\n",
    "            except ValueError:\n",
    "                print (\"Error: value entered must be a float\")\n",
    "            b = float(self.text_input.value)\n",
    "        else:\n",
    "            b = None\n",
    "\n",
    "        below_fe = self.checkbox.value\n",
    "        if e_low <= e_high:\n",
    "            proc_df = Treatment.Kramers_Kronig(df, model=model, low_lim=e_low, high_lim=e_high, below_fe=below_fe, b=b)\n",
    "            print(proc_df)\n",
    "        else:\n",
    "            print(\"Error: energy range entered is invalid\")\n",
    "\n",
    "    def update_ui(self):\n",
    "        clear_output(wait=True)\n",
    "        \n",
    "        selected_option = self.dropdown.value\n",
    "        if selected_option in [\"Insulator\", \"Power law\"]:\n",
    "            self.display_widgets(self.slider1, self.slider1_val, self.slider1_input, self.slider2, self.slider2_val, self.slider2_input, self.text_input, self.checkbox, self.button)\n",
    "            if selected_option == \"Insulator\":\n",
    "                self.text_input.description = \"Constant:\"\n",
    "            elif selected_option == \"Power law\":\n",
    "                self.text_input.description = \"Exponent:\"\n",
    "            self.text_input.layout.visibility = 'visible'\n",
    "        else:\n",
    "            self.display_widgets(self.slider1, self.slider1_val, self.slider1_input, self.slider2, self.slider2_val, self.slider2_input, self.checkbox, self.button)\n",
    "            self.hide_widgets(self.text_input)\n",
    "\n",
    "        display(self.dropdown, self.slider1, self.slider1_val, self.slider1_input, self.slider2, self.slider2_val, self.slider2_input, self.text_input, self.checkbox, self.button)\n",
    "\n",
    "# Create an instance of the InteractiveUI class\n",
    "ui = InteractiveUI(df)\n"
   ]
  }
 ],
 "metadata": {
  "kernelspec": {
   "display_name": "Python 3",
   "language": "python",
   "name": "python3"
  },
  "language_info": {
   "codemirror_mode": {
    "name": "ipython",
    "version": 3
   },
   "file_extension": ".py",
   "mimetype": "text/x-python",
   "name": "python",
   "nbconvert_exporter": "python",
   "pygments_lexer": "ipython3",
   "version": "3.10.2"
  },
  "orig_nbformat": 4
 },
 "nbformat": 4,
 "nbformat_minor": 2
}
