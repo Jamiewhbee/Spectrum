{
 "cells": [
  {
   "cell_type": "markdown",
   "metadata": {},
   "source": [
    "# Guide to using Kramers-Kronig method"
   ]
  },
  {
   "cell_type": "markdown",
   "metadata": {},
   "source": [
    "Initial importing of libraries and modules:"
   ]
  },
  {
   "cell_type": "code",
   "execution_count": 2,
   "metadata": {},
   "outputs": [],
   "source": [
    "# Preliminaries\n",
    "from spectrum import *\n",
    "import matplotlib.pyplot as plt\n",
    "import os\n",
    "from pathlib import Path\n",
    "import pandas as pd\n",
    "import numpy as np\n",
    "current_path = Path.cwd()"
   ]
  },
  {
   "cell_type": "markdown",
   "metadata": {},
   "source": [
    "Loading reference data set into a pandas dataframe using ``data_macro``:"
   ]
  },
  {
   "cell_type": "code",
   "execution_count": 80,
   "metadata": {},
   "outputs": [],
   "source": [
    "pathMagneto = os.path.join(current_path, \"Data\", \"Magneto-optics\", \"Facet_001\")\n",
    "inst_MO = Data_macro(auto = True, data_path = pathMagneto, units = \"cm-1\", data_head = \"none\", ref_head = \"none\", zero_field = True, flag_txt = False)\n",
    "df_macro = inst_MO.auto()\n",
    "\n",
    "# Select data and generate a sparser dataframe for improved processing time\n",
    "df = df_macro.loc[:4000:2,5.0]"
   ]
  },
  {
   "cell_type": "markdown",
   "metadata": {},
   "source": [
    "To carry out the Kramers-Kronig relation calculations, we use the method:<br> ``Treament.kramers_kronig()``<br>\n",
    "``kramers_kronig(df, n, model, w_free, ptail, b)``\n",
    "<br>\n",
    "- ``df``: (pandas dataframe) The input dataframe of spectral data to be processed.<br><br>\n",
    "- ``n``: (int) The number of data points to calculate for low energy extrapolation.<br><br>\n",
    "- ``model``: (string) The model to be used to for low energy extrapolation.<br>(\"Hagen-Rubens\", \"Insulator\", \"Power law\", \"Metal\", \"Marginal Fermi liquid\", \"Gorter-Casimir two-fluid model\", or \"Superconducting\")<br><br>\n",
    "- ``w_free``: (float) The frequency of free-electron (plasma) behaviour.<br><br>\n",
    "- ``ptail``: (int) The exponent for high-energy extrapolation in the interband region.<br><br>\n",
    "- ``b``: (float) Additional parameter for models - the DC conductivity for \"Hagen-Rubens\", the zero-frequency reflectance for \"Insulator\", and the exponent for \"Power law\". "
   ]
  },
  {
   "cell_type": "code",
   "execution_count": 87,
   "metadata": {},
   "outputs": [
    {
     "name": "stderr",
     "output_type": "stream",
     "text": [
      "c:\\Users\\jamie\\OptDect\\sharedmodule\\dataAnalysis.py:942: RuntimeWarning: divide by zero encountered in true_divide\n",
      "  phase = phase - (np.log(R[-1])-np.log(R))*np.log((w[-1]+w)/(w[-1]-w))/(2*pi) + w*(ptail/w[-1]+(4-ptail)/w_free)/pi + (ptail*(w/w[-1])**3) + (4-ptail)*(w/w_free)**3/(9*pi)\n",
      "c:\\Users\\jamie\\OptDect\\sharedmodule\\dataAnalysis.py:942: RuntimeWarning: invalid value encountered in multiply\n",
      "  phase = phase - (np.log(R[-1])-np.log(R))*np.log((w[-1]+w)/(w[-1]-w))/(2*pi) + w*(ptail/w[-1]+(4-ptail)/w_free)/pi + (ptail*(w/w[-1])**3) + (4-ptail)*(w/w_free)**3/(9*pi)\n"
     ]
    },
    {
     "data": {
      "text/html": [
       "<div>\n",
       "<style scoped>\n",
       "    .dataframe tbody tr th:only-of-type {\n",
       "        vertical-align: middle;\n",
       "    }\n",
       "\n",
       "    .dataframe tbody tr th {\n",
       "        vertical-align: top;\n",
       "    }\n",
       "\n",
       "    .dataframe thead th {\n",
       "        text-align: right;\n",
       "    }\n",
       "</style>\n",
       "<table border=\"1\" class=\"dataframe\">\n",
       "  <thead>\n",
       "    <tr style=\"text-align: right;\">\n",
       "      <th></th>\n",
       "      <th>er</th>\n",
       "      <th>ei</th>\n",
       "      <th>R</th>\n",
       "      <th>sr</th>\n",
       "      <th>phase</th>\n",
       "    </tr>\n",
       "  </thead>\n",
       "  <tbody>\n",
       "    <tr>\n",
       "      <th>0.348743</th>\n",
       "      <td>5268.801551</td>\n",
       "      <td>12811.934305</td>\n",
       "      <td>0.972161</td>\n",
       "      <td>74.467860</td>\n",
       "      <td>0.009459</td>\n",
       "    </tr>\n",
       "    <tr>\n",
       "      <th>0.638708</th>\n",
       "      <td>2731.675658</td>\n",
       "      <td>6900.249080</td>\n",
       "      <td>0.962326</td>\n",
       "      <td>73.454023</td>\n",
       "      <td>0.013051</td>\n",
       "    </tr>\n",
       "    <tr>\n",
       "      <th>1.168957</th>\n",
       "      <td>1084.074243</td>\n",
       "      <td>3605.406623</td>\n",
       "      <td>0.949033</td>\n",
       "      <td>70.242763</td>\n",
       "      <td>0.019452</td>\n",
       "    </tr>\n",
       "    <tr>\n",
       "      <th>2.136716</th>\n",
       "      <td>470.709735</td>\n",
       "      <td>1890.513890</td>\n",
       "      <td>0.931092</td>\n",
       "      <td>67.324853</td>\n",
       "      <td>0.027909</td>\n",
       "    </tr>\n",
       "    <tr>\n",
       "      <th>3.896692</th>\n",
       "      <td>231.501508</td>\n",
       "      <td>1000.752887</td>\n",
       "      <td>0.906945</td>\n",
       "      <td>64.993760</td>\n",
       "      <td>0.038855</td>\n",
       "    </tr>\n",
       "    <tr>\n",
       "      <th>...</th>\n",
       "      <td>...</td>\n",
       "      <td>...</td>\n",
       "      <td>...</td>\n",
       "      <td>...</td>\n",
       "      <td>...</td>\n",
       "    </tr>\n",
       "    <tr>\n",
       "      <th>3990.445779</th>\n",
       "      <td>-1.531668</td>\n",
       "      <td>0.006965</td>\n",
       "      <td>0.995564</td>\n",
       "      <td>0.463246</td>\n",
       "      <td>1.359209</td>\n",
       "    </tr>\n",
       "    <tr>\n",
       "      <th>3992.374462</th>\n",
       "      <td>-1.526294</td>\n",
       "      <td>0.006284</td>\n",
       "      <td>0.995982</td>\n",
       "      <td>0.418106</td>\n",
       "      <td>1.360928</td>\n",
       "    </tr>\n",
       "    <tr>\n",
       "      <th>3994.303146</th>\n",
       "      <td>-1.520773</td>\n",
       "      <td>0.005783</td>\n",
       "      <td>0.996286</td>\n",
       "      <td>0.385014</td>\n",
       "      <td>1.362701</td>\n",
       "    </tr>\n",
       "    <tr>\n",
       "      <th>3996.231829</th>\n",
       "      <td>-1.515249</td>\n",
       "      <td>0.005710</td>\n",
       "      <td>0.996318</td>\n",
       "      <td>0.380336</td>\n",
       "      <td>1.364482</td>\n",
       "    </tr>\n",
       "    <tr>\n",
       "      <th>3998.160512</th>\n",
       "      <td>-1.515247</td>\n",
       "      <td>0.006237</td>\n",
       "      <td>0.995979</td>\n",
       "      <td>0.415611</td>\n",
       "      <td>1.364482</td>\n",
       "    </tr>\n",
       "  </tbody>\n",
       "</table>\n",
       "<p>1913 rows × 5 columns</p>\n",
       "</div>"
      ],
      "text/plain": [
       "                      er            ei         R         sr     phase\n",
       "0.348743     5268.801551  12811.934305  0.972161  74.467860  0.009459\n",
       "0.638708     2731.675658   6900.249080  0.962326  73.454023  0.013051\n",
       "1.168957     1084.074243   3605.406623  0.949033  70.242763  0.019452\n",
       "2.136716      470.709735   1890.513890  0.931092  67.324853  0.027909\n",
       "3.896692      231.501508   1000.752887  0.906945  64.993760  0.038855\n",
       "...                  ...           ...       ...        ...       ...\n",
       "3990.445779    -1.531668      0.006965  0.995564   0.463246  1.359209\n",
       "3992.374462    -1.526294      0.006284  0.995982   0.418106  1.360928\n",
       "3994.303146    -1.520773      0.005783  0.996286   0.385014  1.362701\n",
       "3996.231829    -1.515249      0.005710  0.996318   0.380336  1.364482\n",
       "3998.160512    -1.515247      0.006237  0.995979   0.415611  1.364482\n",
       "\n",
       "[1913 rows x 5 columns]"
      ]
     },
     "execution_count": 87,
     "metadata": {},
     "output_type": "execute_result"
    }
   ],
   "source": [
    "proc_df = Treatment.kramers_kronig(df, n = 20, model = \"Hagen-Rubens\", w_free = 50000, ptail = 1, b = 2)\n",
    "proc_df"
   ]
  },
  {
   "cell_type": "code",
   "execution_count": 88,
   "metadata": {},
   "outputs": [
    {
     "data": {
      "text/plain": [
       "<AxesSubplot:>"
      ]
     },
     "execution_count": 88,
     "metadata": {},
     "output_type": "execute_result"
    },
    {
     "data": {
      "image/png": "[encoded data removed]",
      "text/plain": [
       "<Figure size 640x480 with 1 Axes>"
      ]
     },
     "metadata": {},
     "output_type": "display_data"
    }
   ],
   "source": [
    "proc_df[[\"er\",\"ei\",\"R\",\"phase\"]].plot()"
   ]
  },
  {
   "cell_type": "markdown",
   "metadata": {},
   "source": [
    "# Low energy extrapolation models\n",
    "\n",
    "The equations below describe how the low-energy reflectivity $R$ is modelled as a function of the frequency $\\omega$.\n",
    "\n",
    "### Hagen-Rubens\n",
    "\n",
    "$R(\\omega) = 1 - \\sqrt{2\\omega / 15\\sigma}$,\n",
    "\n",
    "where the conductivity $\\sigma$ is given by the user.\n",
    "\n",
    "### Insulator\n",
    "\n",
    "$R(\\omega) = R_0 + a \\omega^2$,\n",
    "\n",
    "where the zero-frequency reflectivity $R_0$ is given by the user and the coefficient $a$ is calculated from the first three datapoints.\n",
    "\n",
    "### Power law\n",
    "\n",
    "$R(\\omega) = 1 - a \\omega^{apow}$,\n",
    "\n",
    "where the exponent $apow$ is given by the user and the coefficient $a$ is calculated from the first datapoint.\n",
    "\n",
    "### Metal\n",
    "\n",
    "$R(\\omega) = 1 - a \\sqrt{\\omega}$,\n",
    "\n",
    "where the coefficient $a$ is calculated from the first datapoint.\n",
    "\n",
    "### Marginal Fermi liquid\n",
    "\n",
    "$R(\\omega) = 1 - a \\omega$,\n",
    "\n",
    "where the coefficient $a$ is calculated from the first datapoint.\n",
    "\n",
    "### Gorter-Casimir two-fluid model\n",
    "\n",
    "$R(\\omega) = 1 - a \\omega^2$,\n",
    "\n",
    "where the coefficient $a$ is calculated from the first datapoint.\n",
    "\n",
    "### Superconducting\n",
    "\n",
    "$R(\\omega) = 1 - a \\omega^4$,\n",
    "\n",
    "where the coefficient $a$ is calculated from the first datapoint.\n"
   ]
  },
  {
   "cell_type": "markdown",
   "metadata": {},
   "source": [
    "# Kramers-Kronig widget\n",
    "<br>Assumes input cropped dataframe is named ``df``\n"
   ]
  },
  {
   "cell_type": "code",
   "execution_count": 102,
   "metadata": {},
   "outputs": [
    {
     "data": {
      "application/vnd.jupyter.widget-view+json": {
       "model_id": "3a82d7f1fab34d76a5fad0e2db0ee279",
       "version_major": 2,
       "version_minor": 0
      },
      "text/plain": [
       "Text(value='', description='Number of points to calculate:', style=TextStyle(description_width='initial'))"
      ]
     },
     "metadata": {},
     "output_type": "display_data"
    },
    {
     "data": {
      "application/vnd.jupyter.widget-view+json": {
       "model_id": "c357f527c3a44759b28ab617d37b5fb4",
       "version_major": 2,
       "version_minor": 0
      },
      "text/plain": [
       "Text(value='', description='Free-electron frequency:', style=TextStyle(description_width='initial'))"
      ]
     },
     "metadata": {},
     "output_type": "display_data"
    },
    {
     "data": {
      "application/vnd.jupyter.widget-view+json": {
       "model_id": "a5f424a708ce4656aa135a9b8d2afa37",
       "version_major": 2,
       "version_minor": 0
      },
      "text/plain": [
       "Text(value='', description='Exponent of interband region:', style=TextStyle(description_width='initial'))"
      ]
     },
     "metadata": {},
     "output_type": "display_data"
    },
    {
     "data": {
      "application/vnd.jupyter.widget-view+json": {
       "model_id": "b5ebe37f3d164f72b26c5260537a3e52",
       "version_major": 2,
       "version_minor": 0
      },
      "text/plain": [
       "Dropdown(description='Select model:', options=('Hagen-Rubens', 'Insulator', 'Power law', 'Metal', 'Marginal Fe…"
      ]
     },
     "metadata": {},
     "output_type": "display_data"
    },
    {
     "data": {
      "application/vnd.jupyter.widget-view+json": {
       "model_id": "362e55a9444d44bbb2a61535b980e92a",
       "version_major": 2,
       "version_minor": 0
      },
      "text/plain": [
       "Text(value='', description='Conductivity:', layout=Layout(display='block', visibility='visible'))"
      ]
     },
     "metadata": {},
     "output_type": "display_data"
    },
    {
     "data": {
      "application/vnd.jupyter.widget-view+json": {
       "model_id": "bc9fd31bf94940a98e376e32bde041c3",
       "version_major": 2,
       "version_minor": 0
      },
      "text/plain": [
       "Button(description='Run KK', layout=Layout(display='block'), style=ButtonStyle())"
      ]
     },
     "metadata": {},
     "output_type": "display_data"
    },
    {
     "name": "stdout",
     "output_type": "stream",
     "text": [
      "Processing...\n",
      "                      er            ei         R         sr     phase\n",
      "0.348743     5268.801551  12811.934305  0.972161  74.467860  0.009459\n",
      "0.638708     2731.675658   6900.249080  0.962326  73.454023  0.013051\n",
      "1.168957     1084.074243   3605.406623  0.949033  70.242763  0.019452\n",
      "2.136716      470.709735   1890.513890  0.931092  67.324853  0.027909\n",
      "3.896692      231.501508   1000.752887  0.906945  64.993760  0.038855\n",
      "...                  ...           ...       ...        ...       ...\n",
      "3990.445779    -1.531668      0.006965  0.995564   0.463246  1.359209\n",
      "3992.374462    -1.526294      0.006284  0.995982   0.418106  1.360928\n",
      "3994.303146    -1.520773      0.005783  0.996286   0.385014  1.362701\n",
      "3996.231829    -1.515249      0.005710  0.996318   0.380336  1.364482\n",
      "3998.160512    -1.515247      0.006237  0.995979   0.415611  1.364482\n",
      "\n",
      "[1913 rows x 5 columns]\n"
     ]
    },
    {
     "name": "stderr",
     "output_type": "stream",
     "text": [
      "c:\\Users\\jamie\\OptDect\\sharedmodule\\dataAnalysis.py:942: RuntimeWarning: divide by zero encountered in true_divide\n",
      "  phase = phase - (np.log(R[-1])-np.log(R))*np.log((w[-1]+w)/(w[-1]-w))/(2*pi) + w*(ptail/w[-1]+(4-ptail)/w_free)/pi + (ptail*(w/w[-1])**3) + (4-ptail)*(w/w_free)**3/(9*pi)\n",
      "c:\\Users\\jamie\\OptDect\\sharedmodule\\dataAnalysis.py:942: RuntimeWarning: invalid value encountered in multiply\n",
      "  phase = phase - (np.log(R[-1])-np.log(R))*np.log((w[-1]+w)/(w[-1]-w))/(2*pi) + w*(ptail/w[-1]+(4-ptail)/w_free)/pi + (ptail*(w/w[-1])**3) + (4-ptail)*(w/w_free)**3/(9*pi)\n"
     ]
    }
   ],
   "source": [
    "# RUN ME\n",
    "from IPython.display import display, clear_output\n",
    "import ipywidgets as widgets\n",
    "\n",
    "class InteractiveUI:\n",
    "    def __init__(self, df):\n",
    "        self.options = [\"Hagen-Rubens\", \"Insulator\", \"Power law\", \"Metal\", \"Marginal Fermi Liquid\", \"Gorter-Casimir two-fluid model\", \"Superconducting\"]\n",
    "        self.dropdown = widgets.Dropdown(options=self.options, description=\"Select model:\")\n",
    "\n",
    "        self.n_input = widgets.Text(description=\"Number of points to calculate:\",style={'description_width':'initial'})\n",
    "        self.wfree_input = widgets.Text(description='Free-electron frequency:',style={'description_width':'initial'})\n",
    "        self.ptail_input = widgets.Text(description='Exponent of interband region:',style={'description_width':'initial'})\n",
    "\n",
    "        self.text_input = widgets.Text()\n",
    "        self.text_input.layout.display = 'none'\n",
    "\n",
    "        self.button = widgets.Button(description=\"Run KK\")\n",
    "        self.button.on_click(self.button_click)\n",
    "\n",
    "        self.dropdown.observe(self.dropdown_event_handler, names='value')\n",
    "        self.update_ui()\n",
    "\n",
    "    def dropdown_event_handler(self, change):\n",
    "        self.update_ui()\n",
    "\n",
    "    def hide_widgets(self, *widgets):\n",
    "        for widget in widgets:\n",
    "            widget.layout.display = 'none'\n",
    "\n",
    "    def display_widgets(self, *widgets):\n",
    "        for widget in widgets:\n",
    "            widget.layout.display = 'block'\n",
    "\n",
    "    def button_click(self, button):\n",
    "        model = self.dropdown.value\n",
    "        try: \n",
    "            n = int(self.n_input.value)\n",
    "            ptail = int(self.ptail_input.value)\n",
    "        except ValueError:\n",
    "            print(\"Error: values entered for n and ptail must be integers\")\n",
    "\n",
    "        try: \n",
    "            wfree = float(self.wfree_input.value)\n",
    "        except ValueError:\n",
    "            print(\"Error: value entered for wfree must be a float\")\n",
    "    \n",
    "        if model in [\"Hagen-Rubens\", \"Insulator\", \"Power law\"]:\n",
    "            try:\n",
    "                float(self.text_input.value)\n",
    "            except ValueError:\n",
    "                print (\"Error: value entered must be a float\")\n",
    "            b = float(self.text_input.value)\n",
    "        else:\n",
    "            b = None\n",
    "\n",
    "        print(\"Processing...\")\n",
    "        proc_df = Treatment.kramers_kronig(df, model=model, n=n, w_free=wfree, ptail=ptail, b=b)\n",
    "        print(proc_df)\n",
    "\n",
    "    def update_ui(self):\n",
    "        clear_output(wait=True)\n",
    "        selected_option = self.dropdown.value\n",
    "        if selected_option in [\"Hagen-Rubens\", \"Insulator\", \"Power law\"]:\n",
    "            self.display_widgets(self.text_input, self.button)\n",
    "            if selected_option == \"Hagen-Rubens\":\n",
    "                self.text_input.description = \"Conductivity:\"\n",
    "            elif selected_option == \"Insulator\":\n",
    "                self.text_input.description = \"Constant:\"\n",
    "            elif selected_option == \"Power law\":\n",
    "                self.text_input.description = \"Exponent:\"\n",
    "            self.text_input.layout.visibility = 'visible'\n",
    "        else:\n",
    "            self.display_widgets(self.text_input, self.button)\n",
    "            self.hide_widgets(self.text_input)\n",
    "\n",
    "        display(self.n_input, self.wfree_input, self.ptail_input, self.dropdown, self.text_input, self.button)\n",
    "\n",
    "# Create an instance of the InteractiveUI class\n",
    "ui = InteractiveUI(df)\n"
   ]
  }
 ],
 "metadata": {
  "kernelspec": {
   "display_name": "Python 3",
   "language": "python",
   "name": "python3"
  },
  "language_info": {
   "codemirror_mode": {
    "name": "ipython",
    "version": 3
   },
   "file_extension": ".py",
   "mimetype": "text/x-python",
   "name": "python",
   "nbconvert_exporter": "python",
   "pygments_lexer": "ipython3",
   "version": "3.10.2"
  },
  "orig_nbformat": 4
 },
 "nbformat": 4,
 "nbformat_minor": 2
}
